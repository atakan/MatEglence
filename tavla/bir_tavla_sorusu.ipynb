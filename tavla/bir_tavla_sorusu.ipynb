{
 "cells": [
  {
   "cell_type": "markdown",
   "metadata": {},
   "source": [
    "# Bir Tavla Sorusu"
   ]
  },
  {
   "cell_type": "markdown",
   "metadata": {},
   "source": [
    "Ali Nesin'in, \"Matematik ve Develerle Eşekler\" kitabındaki sorulardan biri tavla üzerine (aslında olasılık üzerine ama konu tavla teması ile anlatılmış). \n",
    "\n",
    ">**S1.** \"Bir tavla maçı 5'te biter. Yani 5 oyun kazanan ilk oyuncu tavla maçını kazanır. Kimi oyuncular maçın 5-4 bitmesine razı olmazlar, aradaki farkın en az 2 olmasını isterler, 6-4, 7-5, 8-6 gibi... Maçın skorunda en az iki fark olması kimin işine gelir? Zayıf oyuncunun mu güçlü oyuncunun mu? İlginç bir soru. En azından ben ilginç buldum.\"\n",
    "\n",
    "Soruyu ben de ilginç buldum. Bu haliyle \"sezgisel\" olarak maçın uzamasının güçlü oyuncu lehine olacağını düşünüyorum, ancak bunu kanıtlamanın bir yolunu bulmak yerine (Ali Nesin herhalde kitapta bunu yapıyordur, henüz bakmadım), soruyu bilgisayar kullanarak yanıtlamak istedim. Bilgisayar kullanmanın bir getirisi eğer soruyu nitel değil nicel hale getirirsek (yani kuvvetli oyuncunun maçı kazanma olasılığını yalnızca arttığını mı, azaldığını mı sormak yerine, ne kadar değiştiğini sorarsak) bunu da kolayca hesaplayabilecek olmamız.\n",
    "\n",
    "Benim çözümüme geçmeden önce neden sezgisel olarak bu değişikliğin kuvvetli oyuncunun işine geldiğini anlatmak istiyorum. Birincisi, yıllar önce Martin Gardner'ın Scientific American'daki yazılarını topladığı kitapların birinde [^GardnerRulet] rulet oyunundaki en iyi stratejiyi okumuştum: Bütün paranızı bir anda, bir renge yatırmak! Bunun nedeni ruletin adil bir oyun olmaması, her oynadığınızda ortalama beklentiniz yatırdığınız paranın bir miktarını kaybetmek, ne kadar az oynarsanız o kadar iyi. (Ali Nesin aynı kitapta, başka bir soruda, loto oyunu üzerine benzer bir yorum yapıyor. Onun tavsiyesi, hiç oynamamak.)\n",
    "\n",
    "İkinci neden tavla oyununun bir tür tek boyutlu rasgele yürüyüş olması, ancak sağa ya da sola gitme olasılıklarımız aynı değil [^GardnerRasgeleYuruyus]. Bu türden bir rasgele yürüyüşte, ne tarafa gitme eğilimimiz daha fazla ise uzun vadede o tarafta kalma olasılığımız 1'e yaklaşır (yani kesinleşir). Farkın en az iki olması kuralını getirmek maçı uzatacağından, bu değişikliğin uzun vadede kesinleşen sonucu daha  olası yaptığını düşünüyorum.\n",
    "\n",
    "Bunu yazarken aklıma bir soru daha geldi. \n",
    ">**S2.** Bu kural değişikliği maçların yüzde kaçının sonucunu değiştirir ve bu sonuçlarının ne kadarı zayıf, ne kadarı kuvvetli oyuncu lehinedir?\n",
    "\n",
    "Aşağıda bu soruyu da yanıtlayacağım.\n",
    "\n",
    "---\n",
    "[^GardnerRulet]: Maalesef bu kitabı ve yazıyı şu anda hatırlamıyorum. Bulursam/hatırlarsam buraya bu bilgiyi ekleyeceğim.\n",
    "\n",
    "[^GardnerRasgeleYuruyus]: Rasgele yürüyüş için de yine Martin Gardner'ın iki yazısını tavsiye edeceğim. \"Mathematical Circus\" kitabından \"Random Walks and Gambling\" ve \"Random Walks in the Plane and in Space\"."
   ]
  },
  {
   "cell_type": "code",
   "execution_count": null,
   "metadata": {},
   "outputs": [],
   "source": []
  }
 ],
 "metadata": {
  "kernelspec": {
   "display_name": "Python 3",
   "language": "python",
   "name": "python3"
  },
  "language_info": {
   "codemirror_mode": {
    "name": "ipython",
    "version": 3
   },
   "file_extension": ".py",
   "mimetype": "text/x-python",
   "name": "python",
   "nbconvert_exporter": "python",
   "pygments_lexer": "ipython3",
   "version": "3.6.6"
  }
 },
 "nbformat": 4,
 "nbformat_minor": 2
}
